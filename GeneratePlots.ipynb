{
 "cells": [
  {
   "cell_type": "code",
   "execution_count": 1,
   "metadata": {},
   "outputs": [],
   "source": [
    "# 4/30/21\n",
    "# Generate Plots Sub File\n",
    "\n",
    "# Import Libraries\n",
    "import pandas as pd\n",
    "import numpy as np\n",
    "import matplotlib.pyplot as plt\n",
    "import seaborn as sns\n",
    "import json\n",
    "import datetime\n",
    "\n",
    "plt.style.use('ggplot')"
   ]
  },
  {
   "cell_type": "code",
   "execution_count": 2,
   "metadata": {},
   "outputs": [],
   "source": [
    "\"\"\" Function that takes input credit card dataset and stores a set of images depicting the data\n",
    "Inputs: Pandas Dataframe containing information about credit card transactions \n",
    "Outputs: None, but stores multiple plots in the \"Plots\" folder showing the distribution of the values in the dataframe\n",
    "\"\"\"\n",
    "def gen_distribution(df): \n",
    "    fig = plt.figure()\n",
    "    "
   ]
  },
  {
   "cell_type": "code",
   "execution_count": 3,
   "metadata": {},
   "outputs": [],
   "source": [
    "\"\"\" Function that creates a plot of the transaction amount and transaction time distributions\n",
    "Inputs: Credit Card Fraud Dataframe\n",
    "Outputs: None but stores two distribution in Plots folder\n",
    "\"\"\"\n",
    "def gen_amount_time_plot(df):\n",
    "    fig, ax = plt.subplots(1,2,figsize=(18,4))\n",
    "    \n",
    "    # Transfer data\n",
    "    amount=df['Amount'].values\n",
    "    time=df['Time'].values\n",
    "    \n",
    "    # Amount Plot\n",
    "    sns.distplot(amount, ax=ax[0])\n",
    "    ax[0].set_title('Transaction Amount Distribution')\n",
    "    ax[0].set_xlim([min(amount),max(amount)])\n",
    "    \n",
    "    # Time Plot\n",
    "    sns.distplot(time,ax=ax[1])\n",
    "    ax[1].set_title('Transaction Time Distribution')\n",
    "    ax[1].set_xlim([min(time),max(time)])\n",
    "    \n",
    "    # Save plot\n",
    "    fig.savefig('Plots/Transaction Time and Amount Distributions.png', dpi = 175)"
   ]
  },
  {
   "cell_type": "code",
   "execution_count": 3,
   "metadata": {},
   "outputs": [],
   "source": [
    "\"\"\" Function that creates a plot to show the amount of fraud vs clean transactions in the dataset.\n",
    "Inputs: Credit Card Fraud Dataframe\n",
    "Outputs: None but stores a plot in the Plots folder\n",
    "\"\"\"\n",
    "def gen_data_class(df):\n",
    "    \n",
    "    # Amount Plot\n",
    "    sns.countplot('Class', data=df, palette=[\"#0101DF\", \"#DF0101\"])\n",
    "    plt.title('Fraud Classification \\n (0: No Fraud || 1: Fraud)',          fontsize=14)\n",
    "\n",
    "    # Save plot\n",
    "    plt.savefig('Plots/Data Classification.png')"
   ]
  },
  {
   "cell_type": "code",
   "execution_count": 4,
   "metadata": {},
   "outputs": [],
   "source": [
    "\"\"\" Function that creates a heatmap for the input features\n",
    "Input: Dataframe\n",
    "Outputs: None but stores a heatmap plot in Plots folder\n",
    "\"\"\"\n",
    "def gen_heatmap_plot(df,runset_name):\n",
    "    fig=plt.plot(figsize=(24,20))\n",
    "    \n",
    "    #create correlation\n",
    "    corr=df.corr()\n",
    "    sns.heatmap(corr,cmap='coolwarm_r',annot_kws={'size':20})\n",
    "    plt.title(str(runset_name)+\" Dataset Heatmap\")\n",
    "    \n",
    "    plt.savefig('Plots/'+str(runset_name)+'_heatmap_plot')"
   ]
  },
  {
   "cell_type": "code",
   "execution_count": 5,
   "metadata": {},
   "outputs": [],
   "source": [
    "\"\"\" Function that creates a bar chart of Feature Importance for the Random Forest\n",
    "Inputs: Feature Importance Series\n",
    "Outputs: None but stores a bar chart showing feature importance in the Plots folder\n",
    "\"\"\"\n",
    "def gen_feature_plot(df,sr, runset_name):\n",
    "    plt.plot(figsize=(24,20))\n",
    "\n",
    "    feature_imp=pd.DataFrame({'Feature':df.columns[0:30], 'Feature Importance':sr})\n",
    "    feature_imp=feature_imp.sort_values(by='Feature Importance',ascending=False)\n",
    "    \n",
    "    g = sns.barplot(x='Feature',y='Feature Importance',data=feature_imp)\n",
    "    g.set_xticklabels(g.get_xticklabels(),rotation=90)\n",
    "    g.set_title('Feature Importance: '+str(runset_name))\n",
    "    \n",
    "    plt.savefig('Plots/'+str(runset_name)+'_feature_importance_plot')"
   ]
  }
 ],
 "metadata": {
  "kernelspec": {
   "name": "python385jvsc74a57bd0ea73dfb5169350e1c0e7560056c7e13314f3d35958c40163dd0640ab98974424",
   "display_name": "Python 3.8.5 64-bit ('base': conda)"
  },
  "language_info": {
   "codemirror_mode": {
    "name": "ipython",
    "version": 3
   },
   "file_extension": ".py",
   "mimetype": "text/x-python",
   "name": "python",
   "nbconvert_exporter": "python",
   "pygments_lexer": "ipython3",
   "version": "3.8.5"
  }
 },
 "nbformat": 4,
 "nbformat_minor": 4
}