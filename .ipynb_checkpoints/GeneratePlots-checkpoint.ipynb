{
 "cells": [
  {
   "cell_type": "code",
   "execution_count": 1,
   "metadata": {},
   "outputs": [],
   "source": [
    "# 4/30/21\n",
    "# Generate Plots Sub File\n",
    "\n",
    "# Import Libraries\n",
    "import pandas as pd\n",
    "import numpy as np\n",
    "import matplotlib.pyplot as plt\n",
    "import seaborn as sns\n",
    "import json\n",
    "import datetime\n",
    "\n",
    "plt.style.use('ggplot')"
   ]
  },
  {
   "cell_type": "code",
   "execution_count": 2,
   "metadata": {},
   "outputs": [],
   "source": [
    "\"\"\" Function that takes input credit card dataset and stores a set of images depicting the data\n",
    "Inputs: Pandas Dataframe containing information about credit card transactions \n",
    "Outputs: None, but stores multiple plots in the \"Plots\" folder showing the distribution of the values in the dataframe\n",
    "\"\"\"\n",
    "def gen_distribution(df): \n",
    "    fig = plt.figure()\n",
    "    "
   ]
  },
  {
   "cell_type": "code",
   "execution_count": 3,
   "metadata": {},
   "outputs": [],
   "source": [
    "\"\"\" Function that creates a plot of the transaction amount and transaction time distributions\n",
    "Inputs: Credit Card Fraud Dataframe\n",
    "Outputs: None but stores two plots in plot folder\n",
    "\"\"\"\n",
    "def gen_amount_time_plot(df):\n",
    "    fig, ax = plt.subplots(1,2,figsize=(18,4))\n",
    "    \n",
    "    # Transfer data\n",
    "    amount=df['Amount'].values\n",
    "    time=df['Time'].values\n",
    "    \n",
    "    # Amount Plot\n",
    "    sns.distplot(amount, ax=ax[0])\n",
    "    ax[0].set_title('Transaction Amount Distribution')\n",
    "    ax[0].set_xlim([min(amount),max(amount)])\n",
    "    \n",
    "    # Time Plot\n",
    "    sns.distplot(time,ax=ax[1])\n",
    "    ax[1].set_title('Transaction Time Distribution')\n",
    "    ax[1].set_xlim([min(time),max(time)])\n",
    "    \n",
    "    # Save plot\n",
    "    fig.savefig('Plots/Transaction Time and Amount Distributions.png', dpi = 175)"
   ]
  },
  {
   "cell_type": "code",
   "execution_count": null,
   "metadata": {},
   "outputs": [],
   "source": []
  }
 ],
 "metadata": {
  "kernelspec": {
   "display_name": "Python 3",
   "language": "python",
   "name": "python3"
  },
  "language_info": {
   "codemirror_mode": {
    "name": "ipython",
    "version": 3
   },
   "file_extension": ".py",
   "mimetype": "text/x-python",
   "name": "python",
   "nbconvert_exporter": "python",
   "pygments_lexer": "ipython3",
   "version": "3.8.3"
  }
 },
 "nbformat": 4,
 "nbformat_minor": 4
}
