{
 "cells": [
  {
   "cell_type": "code",
   "execution_count": 1,
   "metadata": {},
   "outputs": [],
   "source": [
    "# Advanced Data Analytics Final Project\n",
    "# Aaron Forrest, Ajay Parthasarathy, Grant Tilson\n",
    "# 5/3/21\n",
    "\n",
    "## Need to pip install import_ipynb to get this functionality\n",
    "## Meant to give access to other .ipynb notebooks to use as modules\n",
    "## Must also create a blank file in this folder titled '__init__.ipynb'\n",
    "import import_ipynb"
   ]
  },
  {
   "cell_type": "code",
   "execution_count": 2,
   "metadata": {},
   "outputs": [],
   "source": [
    "# Helpful Links\n",
    "# https://towardsdatascience.com/random-forest-in-python-24d0893d51c0\n",
    "# https://www.datacamp.com/community/tutorials/random-forests-classifier-python\n",
    "# https://stackabuse.com/random-forest-algorithm-with-python-and-scikit-learn/\n",
    "# https://www.kaggle.com/janiobachmann/credit-fraud-dealing-with-imbalanced-datasets\n",
    "# https://machinelearningmastery.com/smote-oversampling-for-imbalanced-classification/\n",
    "# https://www.kaggle.com/kabure/credit-card-fraud-prediction-rf-smote"
   ]
  },
  {
   "cell_type": "code",
   "execution_count": 10,
   "metadata": {},
   "outputs": [],
   "source": [
    "# Import Libraries\n",
    "import pandas as pd\n",
    "import numpy as np\n",
    "import matplotlib.pyplot as plt\n",
    "import seaborn as sns\n",
    "import json\n",
    "from sklearn.ensemble import RandomForestClassifier\n",
    "from sklearn.model_selection import train_test_split\n",
    "from sklearn import metrics\n",
    "from sklearn.metrics import classification_report, confusion_matrix, accuracy_score, precision_score, recall_score, fbeta_score, precision_recall_curve\n",
    "from sklearn.preprocessing import RobustScaler\n",
    "from scipy import stats\n",
    "import imblearn"
   ]
  },
  {
   "cell_type": "code",
   "execution_count": 4,
   "metadata": {},
   "outputs": [
    {
     "name": "stdout",
     "output_type": "stream",
     "text": [
      "importing Jupyter notebook from GeneratePlots.ipynb\n",
      "importing Jupyter notebook from Random_Forest.ipynb\n"
     ]
    }
   ],
   "source": [
    "# Import Other Files\n",
    "# Must compile the other two files of the same name prior to running this block\n",
    "from GeneratePlots import gen_amount_time_plot\n",
    "from Random_Forest import run_random_forest\n",
    "from GeneratePlots import gen_heatmap_plot"
   ]
  },
  {
   "cell_type": "code",
   "execution_count": 5,
   "metadata": {},
   "outputs": [],
   "source": [
    "# Create name for text files\n",
    "random_forest_file_name=\"Random_Forest_Results.txt\"\n",
    "\n",
    "# Truncate them to clear their previous contents\n",
    "random_forest_file=open(random_forest_file_name,\"a\")\n",
    "random_forest_file.truncate(0)\n",
    "random_forest_file.close()"
   ]
  },
  {
   "cell_type": "code",
   "execution_count": 6,
   "metadata": {},
   "outputs": [],
   "source": [
    "# Set plotting style\n",
    "plt.style.use('ggplot')"
   ]
  },
  {
   "cell_type": "code",
   "execution_count": 7,
   "metadata": {},
   "outputs": [],
   "source": [
    "# Import credit card transaction data\n",
    "df_creditcard = pd.read_csv('creditcard.csv')"
   ]
  },
  {
   "cell_type": "code",
   "execution_count": 8,
   "metadata": {},
   "outputs": [],
   "source": [
    "# Split Data into test and train datasets\n",
    "# X values are V* and Amount and Y values are 1 for fraud and 0 for not fraud\n",
    "# Current Train dataset is 70% of the total dataset\n",
    "X=df_creditcard.iloc[:,0:30]\n",
    "y=df_creditcard.iloc[:,30]\n",
    "X_train,X_test,y_train,y_test=train_test_split(X,y,test_size=.3)"
   ]
  },
  {
   "cell_type": "code",
   "execution_count": 9,
   "metadata": {},
   "outputs": [
    {
     "ename": "NameError",
     "evalue": "name 'precision_score' is not defined",
     "output_type": "error",
     "traceback": [
      "\u001b[1;31m---------------------------------------------------------------------------\u001b[0m",
      "\u001b[1;31mNameError\u001b[0m                                 Traceback (most recent call last)",
      "\u001b[1;32m<ipython-input-9-803de0a77cb7>\u001b[0m in \u001b[0;36m<module>\u001b[1;34m\u001b[0m\n\u001b[0;32m      1\u001b[0m \u001b[1;31m# Initial run of the random forest model using original dataset\u001b[0m\u001b[1;33m\u001b[0m\u001b[1;33m\u001b[0m\u001b[1;33m\u001b[0m\u001b[0m\n\u001b[1;32m----> 2\u001b[1;33m \u001b[0mrun_random_forest\u001b[0m\u001b[1;33m(\u001b[0m\u001b[0mdf_creditcard\u001b[0m\u001b[1;33m,\u001b[0m\u001b[1;34m\"Initial\"\u001b[0m\u001b[1;33m,\u001b[0m \u001b[0mrandom_forest_file_name\u001b[0m\u001b[1;33m)\u001b[0m\u001b[1;33m\u001b[0m\u001b[1;33m\u001b[0m\u001b[0m\n\u001b[0m",
      "\u001b[1;32m~\\Python\\Advanced\\final_project\\Random_Forest.ipynb\u001b[0m in \u001b[0;36mrun_random_forest\u001b[1;34m(df, runset_name, file_name)\u001b[0m\n",
      "\u001b[1;31mNameError\u001b[0m: name 'precision_score' is not defined"
     ]
    }
   ],
   "source": [
    "# Initial run of the random forest model using original dataset\n",
    "run_random_forest(df_creditcard,\"Initial\", random_forest_file_name)"
   ]
  },
  {
   "cell_type": "code",
   "execution_count": null,
   "metadata": {},
   "outputs": [],
   "source": [
    "# Generate a heatmap of the features\n",
    "gen_heatmap_plot(df_creditcard, \"Initial\")"
   ]
  },
  {
   "cell_type": "code",
   "execution_count": null,
   "metadata": {},
   "outputs": [],
   "source": [
    "# Generate plots of transaction amount and time distributions\n",
    "gen_amount_time_plot(df_creditcard)"
   ]
  },
  {
   "cell_type": "code",
   "execution_count": null,
   "metadata": {},
   "outputs": [],
   "source": [
    "# The V* features are scaled but the Time and Amount features are not scaled\n",
    "# This scales those two features for proper analysis\n",
    "robust_scaler=RobustScaler()\n",
    "\n",
    "# Scale new values\n",
    "df_creditcard['Amount_Scaled']=robust_scaler.fit_transform(df_creditcard['Amount'].values.reshape(-1,1))\n",
    "df_creditcard['Time_Scaled']=robust_scaler.fit_transform(df_creditcard['Time'].values.reshape(-1,1))\n",
    "\n",
    "# Drop old time and amount features\n",
    "df_creditcard.drop(['Time','Amount'], axis=1, inplace=True)"
   ]
  },
  {
   "cell_type": "code",
   "execution_count": null,
   "metadata": {},
   "outputs": [],
   "source": [
    "# Need to rearrange order of columns to make sure that Class is the last column\n",
    "scaled_amount_placeholder=df_creditcard['Amount_Scaled']\n",
    "scaled_time_placeholder=df_creditcard['Time_Scaled']\n",
    "df_creditcard.drop(['Amount_Scaled','Time_Scaled'], axis=1, inplace=True)\n",
    "df_creditcard.insert(0,'Amount_Scaled',scaled_amount_placeholder)\n",
    "df_creditcard.insert(1,'Time_Scaled',scaled_time_placeholder)"
   ]
  },
  {
   "cell_type": "code",
   "execution_count": null,
   "metadata": {},
   "outputs": [],
   "source": [
    "# Second run of the random forest model using scaled dataset\n",
    "#run_random_forest(df_creditcard,\"Scaled\", random_forest_file_name)"
   ]
  },
  {
   "cell_type": "code",
   "execution_count": null,
   "metadata": {},
   "outputs": [],
   "source": [
    "#gen_heatmap_plot(df_creditcard, \"Scaled\")"
   ]
  },
  {
   "cell_type": "code",
   "execution_count": null,
   "metadata": {},
   "outputs": [],
   "source": []
  }
 ],
 "metadata": {
  "kernelspec": {
   "display_name": "Python 3",
   "language": "python",
   "name": "python3"
  },
  "language_info": {
   "codemirror_mode": {
    "name": "ipython",
    "version": 3
   },
   "file_extension": ".py",
   "mimetype": "text/x-python",
   "name": "python",
   "nbconvert_exporter": "python",
   "pygments_lexer": "ipython3",
   "version": "3.8.3"
  }
 },
 "nbformat": 4,
 "nbformat_minor": 4
}
