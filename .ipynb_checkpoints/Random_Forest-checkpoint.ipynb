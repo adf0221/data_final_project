{
 "cells": [
  {
   "cell_type": "code",
   "execution_count": 1,
   "metadata": {},
   "outputs": [],
   "source": [
    "# 5/3/21\n",
    "# Run Random Forest Subfile\n",
    "\n",
    "# Import Libraries\n",
    "import pandas as pd\n",
    "import numpy as np\n",
    "import matplotlib.pyplot as plt"
   ]
  },
  {
   "cell_type": "code",
   "execution_count": 2,
   "metadata": {},
   "outputs": [],
   "source": [
    "# Import Random Forest Libraries\n",
    "from sklearn.ensemble import RandomForestClassifier\n",
    "from sklearn.model_selection import train_test_split\n",
    "from sklearn import metrics\n",
    "from sklearn.metrics import classification_report, confusion_matrix, accuracy_score, precision_score, recall_score, fbeta_score, precision_recall_curve"
   ]
  },
  {
   "cell_type": "code",
   "execution_count": 3,
   "metadata": {},
   "outputs": [],
   "source": [
    "\"\"\" Primary function that takes input dataset and runs through all random forest functionality\n",
    "Inputs: pandas dataframe, run name, text file name\n",
    "Outputs: None, but stores results of run in textfile \n",
    "\"\"\"\n",
    "def run_random_forest(df, X_train, X_test, y_train, y_test, runset_name, file_name):\n",
    "    \n",
    "    # Open text file and write runset name\n",
    "    text_file=open(file_name,\"a\")\n",
    "    text_file.write(\"Results for \"+runset_name+\" Random Forest run\\n\\n\")\n",
    "    \n",
    "    # Print % of dataset that is frauds\n",
    "    text_file.write('No Frauds: '+ str(round(y_train.value_counts()[0]/len(y_train) * 100,2))+ '% of the training set\\n')\n",
    "    text_file.write('Frauds: '+ str(round(y_train.value_counts()[1]/len(y_train) * 100,2))+ '% of the training set\\n\\n')\n",
    "    \n",
    "    # Split Data into test and train datasets\n",
    "    # X values are V* and Amount and Y values are 1 for fraud and 0 for not fraud\n",
    "    # Current Train dataset is 70% of the total dataset\n",
    "    X=df.iloc[:,0:30]\n",
    "    y=df.iloc[:,30]\n",
    "    #X_train,X_test,y_train,y_test=train_test_split(X,y,test_size=.3)\n",
    "    \n",
    "    # Create Gaussian Classifier\n",
    "    # Temporarily setting to 25 to reduce runtime\n",
    "    #clf=RandomForestClassifier(n_estimators=100)\n",
    "    clf=RandomForestClassifier(n_estimators=25)\n",
    "    \n",
    "    #Train the model\n",
    "    clf.fit(X_train,y_train)\n",
    "    \n",
    "    # store feature importance\n",
    "    feature_imp=pd.Series(clf.feature_importances_,index=df.columns[0:30])\n",
    "    feature_imp_sorted=feature_imp.sort_values(ascending=False)\n",
    "    \n",
    "    # Print feature importance\n",
    "    text_file.write(str(feature_imp_sorted)+\"\\n\")\n",
    "    \n",
    "    # Create predicted values\n",
    "    y_pred=clf.predict(X_test)\n",
    "    \n",
    "    # Print confusion matrix\n",
    "    text_file.write(\"Confusion Matrix\\n\")\n",
    "    text_file.write(str(confusion_matrix(y_test,y_pred))+\"\\n\\n\")\n",
    "    \n",
    "    # Print classification report\n",
    "    text_file.write(\"Classification Report\\n\")\n",
    "    text_file.write(str(classification_report(y_test,y_pred))+\"\\n\\n\")\n",
    "    \n",
    "    # Print Accuracy Score\n",
    "    text_file.write(\"Accuracy Score=\")\n",
    "    text_file.write(str(accuracy_score(y_test,y_pred))+\"\\n\")\n",
    "    \n",
    "    # Print Precision Score\n",
    "    text_file.write(\"Precision Score=\")\n",
    "    text_file.write(str(precision_score(y_test,y_pred))+'\\n')\n",
    "    \n",
    "    # Print Recall Score\n",
    "    text_file.write(\"Recall Score=\")\n",
    "    text_file.write(str(recall_score(y_test,y_pred))+'\\n') \n",
    "    \n",
    "    # Print F2 Score\n",
    "    text_file.write(\"F2 Score=\")\n",
    "    text_file.write(str(fbeta_score(y_test,y_pred, beta=2))+'\\n')    \n",
    "    \n",
    "    text_file.write(\"----------------------------------------------------------\\n\")\n",
    "    # Close text file\n",
    "    text_file.close()\n",
    "    \n",
    "    return feature_imp"
   ]
  },
  {
   "cell_type": "code",
   "execution_count": null,
   "metadata": {},
   "outputs": [],
   "source": []
  }
 ],
 "metadata": {
  "kernelspec": {
   "display_name": "Python 3",
   "language": "python",
   "name": "python3"
  },
  "language_info": {
   "codemirror_mode": {
    "name": "ipython",
    "version": 3
   },
   "file_extension": ".py",
   "mimetype": "text/x-python",
   "name": "python",
   "nbconvert_exporter": "python",
   "pygments_lexer": "ipython3",
   "version": "3.8.3"
  }
 },
 "nbformat": 4,
 "nbformat_minor": 4
}
