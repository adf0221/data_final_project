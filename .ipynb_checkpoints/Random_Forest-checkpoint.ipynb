{
 "cells": [
  {
   "cell_type": "code",
   "execution_count": 1,
   "metadata": {},
   "outputs": [],
   "source": [
    "# 5/9/21\n",
    "# Run Random Forest Subfile\n",
    "\n",
    "# Import Libraries\n",
    "import pandas as pd\n",
    "import numpy as np\n",
    "import matplotlib.pyplot as plt"
   ]
  },
  {
   "cell_type": "code",
   "execution_count": 2,
   "metadata": {},
   "outputs": [],
   "source": [
    "# Import Random Forest Libraries\n",
    "from sklearn.ensemble import RandomForestClassifier\n",
    "from sklearn.model_selection import train_test_split\n",
    "from sklearn import metrics\n",
    "from sklearn.metrics import classification_report, confusion_matrix, accuracy_score, precision_score, recall_score, fbeta_score, precision_recall_curve"
   ]
  },
  {
   "cell_type": "code",
   "execution_count": 3,
   "metadata": {},
   "outputs": [
    {
     "name": "stdout",
     "output_type": "stream",
     "text": [
      "importing Jupyter notebook from GeneratePlots.ipynb\n"
     ]
    }
   ],
   "source": [
    "# Import Generate Plots File\n",
    "import import_ipynb\n",
    "import GeneratePlots"
   ]
  },
  {
   "cell_type": "code",
   "execution_count": 4,
   "metadata": {},
   "outputs": [],
   "source": [
    "\"\"\" Primary function that takes input dataset and runs through all random forest functionality\n",
    "Inputs: pandas dataframe, X and y test and train sets, run name, text file name\n",
    "Outputs: None, but stores results of run in textfile \n",
    "\"\"\"\n",
    "def run_random_forest(df, X_train, X_test, y_train, y_test, runset_name, file_name):\n",
    "    \n",
    "    # Open text file and write runset name\n",
    "    text_file=open(file_name,\"a\")\n",
    "    text_file.write(\"Results for \"+runset_name+\" Random Forest run\\n\\n\")\n",
    "    \n",
    "    # Print % of dataset that is frauds\n",
    "    text_file.write('No Frauds: '+ str(round(y_train.value_counts()[0]/len(y_train) * 100,2))+ '% of the training set\\n')\n",
    "    text_file.write('Frauds: '+ str(round(y_train.value_counts()[1]/len(y_train) * 100,2))+ '% of the training set\\n\\n')\n",
    "    \n",
    "    # Split Data into test and train datasets\n",
    "    # X values are V* and Amount and Y values are 1 for fraud and 0 for not fraud\n",
    "    # Current Train dataset is 70% of the total dataset\n",
    "    X=df.iloc[:,0:30]\n",
    "    y=df.iloc[:,30]\n",
    "    #X_train,X_test,y_train,y_test=train_test_split(X,y,test_size=.3)\n",
    "    \n",
    "    # Create Gaussian Classifier\n",
    "    clf=RandomForestClassifier(n_estimators=100)\n",
    "    #clf=RandomForestClassifier(n_estimators=25)\n",
    "    \n",
    "    #Train the model\n",
    "    clf.fit(X_train,y_train)\n",
    "    \n",
    "    # store feature importance\n",
    "    feature_imp=pd.Series(clf.feature_importances_,index=df.columns[0:30])\n",
    "    feature_imp_sorted=feature_imp.sort_values(ascending=False)\n",
    "    \n",
    "    # Print feature importance\n",
    "    text_file.write(str(feature_imp_sorted)+\"\\n\")\n",
    "    \n",
    "    # Create predicted values\n",
    "    y_pred=clf.predict(X_test)\n",
    "    \n",
    "    # Print confusion matrix\n",
    "    text_file.write(\"Confusion Matrix\\n\")\n",
    "    text_file.write(str(confusion_matrix(y_test,y_pred))+\"\\n\\n\")\n",
    "    \n",
    "    # Print classification report\n",
    "    text_file.write(\"Classification Report\\n\")\n",
    "    text_file.write(str(classification_report(y_test,y_pred))+\"\\n\\n\")\n",
    "    \n",
    "    # Print Accuracy Score\n",
    "    text_file.write(\"Accuracy Score=\")\n",
    "    text_file.write(str(accuracy_score(y_test,y_pred))+\"\\n\")\n",
    "    \n",
    "    # Print Precision Score\n",
    "    text_file.write(\"Precision Score=\")\n",
    "    text_file.write(str(precision_score(y_test,y_pred))+'\\n')\n",
    "    \n",
    "    # Print Recall Score\n",
    "    text_file.write(\"Recall Score=\")\n",
    "    text_file.write(str(recall_score(y_test,y_pred))+'\\n') \n",
    "    \n",
    "    # Print F2 Score\n",
    "    text_file.write(\"F2 Score=\")\n",
    "    text_file.write(str(fbeta_score(y_test,y_pred, beta=2))+'\\n')    \n",
    "    \n",
    "    text_file.write(\"----------------------------------------------------------\\n\")\n",
    "    # Close text file\n",
    "    text_file.close()\n",
    "    \n",
    "    return feature_imp,y_pred"
   ]
  },
  {
   "cell_type": "code",
   "execution_count": 5,
   "metadata": {},
   "outputs": [],
   "source": [
    "\"\"\"Wrapper function that runs rull random forest analysis and plots for an input test train split files\n",
    "Inputs: pandas dataframe, X and y train and test dataframes, run name, text file name\n",
    "Outputs: None but stores 2 images in the plots folder and updates the text file name with the random forest run results\n",
    "\"\"\"\n",
    "def random_forest(df, X_train, X_test, y_train, y_test, runset_name, file_name):\n",
    "    # Run of random forest model\n",
    "    feature_imp,y_pred=run_random_forest(df, X_train, X_test, y_train, y_test,runset_name, file_name)\n",
    "    \n",
    "    # Generate Feature Importance Plot\n",
    "    GeneratePlots.gen_feature_plot(df, feature_imp,runset_name)\n",
    "    \n",
    "    # Append training data to create heatmap\n",
    "    df_train = X_train.copy()\n",
    "    df_train.insert(0,'Class',y_train)\n",
    "\n",
    "    # Generate heatmap of training data\n",
    "    GeneratePlots.gen_heatmap_plot(df_train,runset_name)\n",
    "    \n",
    "    return y_pred"
   ]
  },
  {
   "cell_type": "code",
   "execution_count": 6,
   "metadata": {},
   "outputs": [],
   "source": [
    "\"\"\" Function that creates a list of potential positive fraud cases to alert customers\n",
    "Inputs: dataframe of test data, darray of fraud or no fraud declarations, runset name, text file name\n",
    "Outputs: None but stores list of information in text file\n",
    "\"\"\"\n",
    "\n",
    "def print_fraud_cases(X_test,y_pred,runset_name,file_name):\n",
    "    # Create new array of positive customer fraud cases\n",
    "    fraud_positive = X_test.copy()\n",
    "    fraud_positive.insert(0,'Class',y_pred)\n",
    "    fraud_positive=fraud_positive[fraud_positive.Class!=0]\n",
    "    #fraud_positive.drop(fraud_positive.iloc[:,3:30],axis=1)\n",
    "    first_columns=fraud_positive.iloc[:,0:3]\n",
    "    \n",
    "    # Open text file and write runset name\n",
    "    text_file=open(file_name,\"a\")\n",
    "    text_file.write(\"Potential Fraud Cases for \"+runset_name+\" Random Forest run\\n\\n\")\n",
    "    \n",
    "    # Write fraud cases to txt file\n",
    "    text_file.write(first_columns.to_string())\n",
    "        \n",
    "    text_file.write(\"----------------------------------------------------------\\n\")\n",
    "    # Close text file\n",
    "    text_file.close()"
   ]
  }
 ],
 "metadata": {
  "kernelspec": {
   "display_name": "Python 3",
   "language": "python",
   "name": "python3"
  },
  "language_info": {
   "codemirror_mode": {
    "name": "ipython",
    "version": 3
   },
   "file_extension": ".py",
   "mimetype": "text/x-python",
   "name": "python",
   "nbconvert_exporter": "python",
   "pygments_lexer": "ipython3",
   "version": "3.8.3"
  }
 },
 "nbformat": 4,
 "nbformat_minor": 4
}
