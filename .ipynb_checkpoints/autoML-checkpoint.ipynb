{
 "cells": [
  {
   "cell_type": "code",
   "execution_count": 1,
   "metadata": {},
   "outputs": [
    {
     "name": "stderr",
     "output_type": "stream",
     "text": [
      "C:\\Users\\Aaron\\anaconda3\\lib\\site-packages\\tpot\\builtins\\__init__.py:36: UserWarning: Warning: optional dependency `torch` is not available. - skipping import of NN models.\n",
      "  warnings.warn(\"Warning: optional dependency `torch` is not available. - skipping import of NN models.\")\n"
     ]
    }
   ],
   "source": [
    "# 5/10/21\n",
    "# Run autoML model Subfile\n",
    "\n",
    "# Import Libraries\n",
    "import pandas as pd\n",
    "import numpy as np\n",
    "import matplotlib.pyplot as plt\n",
    "from tpot import TPOTClassifier"
   ]
  },
  {
   "cell_type": "code",
   "execution_count": 2,
   "metadata": {},
   "outputs": [],
   "source": [
    "\"\"\" Primary function that takes train/test data and runs through autoML algorithms\n",
    "Inputs: X and y test and train sets, run name, text file name\n",
    "Outputs: None, but stores results of run in textfile \n",
    "\"\"\"\n",
    "def run_autoML(X_train, X_test, y_train, y_test, runset_name, file_name):\n",
    "    \n",
    "    # Open text file and write runset name\n",
    "    text_file=open(file_name,\"a\")\n",
    "    text_file.write(\"Results for \"+runset_name+\" autoML run\\n\\n\")\n",
    "    \n",
    "    # Create TPOT model\n",
    "    tpot=TPOTClassifier(verbosity=2,generations=3,population_size=50, scoring='f1')\n",
    "    \n",
    "    # Run the autoML model\n",
    "    tpot.fit(X_train,y_train)\n",
    "    \n",
    "    # write name and information of best model\n",
    "    text_file.write(\"Best Model \\n\")\n",
    "    text_file.write(str(tpot.fitted_pipeline_)+'\\n')\n",
    "    \n",
    "    # Write score of best model\n",
    "    text_file.write(\"Best Score \\n\")\n",
    "    text_file.write(str(tpot.score(X_test,y_test))+'\\n')\n",
    "    \n",
    "    text_file.write(\"----------------------------------------------------------\\n\")\n",
    "    # Close text file\n",
    "    text_file.close()"
   ]
  },
  {
   "cell_type": "code",
   "execution_count": null,
   "metadata": {},
   "outputs": [],
   "source": []
  }
 ],
 "metadata": {
  "kernelspec": {
   "display_name": "Python 3",
   "language": "python",
   "name": "python3"
  },
  "language_info": {
   "codemirror_mode": {
    "name": "ipython",
    "version": 3
   },
   "file_extension": ".py",
   "mimetype": "text/x-python",
   "name": "python",
   "nbconvert_exporter": "python",
   "pygments_lexer": "ipython3",
   "version": "3.8.3"
  }
 },
 "nbformat": 4,
 "nbformat_minor": 4
}
