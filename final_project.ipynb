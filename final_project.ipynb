{
 "cells": [
  {
   "cell_type": "code",
   "execution_count": 1,
   "metadata": {},
   "outputs": [],
   "source": [
    "# Advanced Data Analytics Final Project\n",
    "# Aaron Forrest, Ajay Parthasarathy, Grant Tilson\n",
    "# 5/9/21\n",
    "\n",
    "## Need to pip install import_ipynb to get this functionality\n",
    "## Meant to give access to other .ipynb notebooks to use as modules\n",
    "## Must also create a blank file in this folder titled '__init__.ipynb'\n",
    "import import_ipynb"
   ]
  },
  {
   "cell_type": "code",
   "execution_count": 2,
   "metadata": {},
   "outputs": [],
   "source": [
    "# Helpful Links\n",
    "# https://towardsdatascience.com/random-forest-in-python-24d0893d51c0\n",
    "# https://www.datacamp.com/community/tutorials/random-forests-classifier-python\n",
    "# https://stackabuse.com/random-forest-algorithm-with-python-and-scikit-learn/\n",
    "# https://www.kaggle.com/janiobachmann/credit-fraud-dealing-with-imbalanced-datasets\n",
    "# https://machinelearningmastery.com/smote-oversampling-for-imbalanced-classification/\n",
    "# https://www.kaggle.com/kabure/credit-card-fraud-prediction-rf-smote\n",
    "# https://machinelearningmastery.com/tpot-for-automated-machine-learning-in-python/"
   ]
  },
  {
   "cell_type": "code",
   "execution_count": 3,
   "metadata": {},
   "outputs": [],
   "source": [
    "# Track time to test HPC\n",
    "import time\n",
    "start_time=time.time()"
   ]
  },
  {
   "cell_type": "code",
   "execution_count": 4,
   "metadata": {},
   "outputs": [
    {
     "name": "stderr",
     "output_type": "stream",
     "text": [
      "C:\\Users\\Aaron\\anaconda3\\lib\\site-packages\\tpot\\builtins\\__init__.py:36: UserWarning: Warning: optional dependency `torch` is not available. - skipping import of NN models.\n",
      "  warnings.warn(\"Warning: optional dependency `torch` is not available. - skipping import of NN models.\")\n"
     ]
    }
   ],
   "source": [
    "# Import Libraries\n",
    "import pandas as pd\n",
    "import numpy as np\n",
    "import matplotlib.pyplot as plt\n",
    "import seaborn as sns\n",
    "import json\n",
    "from sklearn.ensemble import RandomForestClassifier\n",
    "from sklearn.model_selection import train_test_split\n",
    "from sklearn import metrics\n",
    "from sklearn.metrics import classification_report, confusion_matrix, accuracy_score, precision_score, recall_score, fbeta_score, precision_recall_curve\n",
    "from sklearn.preprocessing import RobustScaler\n",
    "from scipy import stats\n",
    "from tpot import TPOTClassifier"
   ]
  },
  {
   "cell_type": "code",
   "execution_count": 5,
   "metadata": {},
   "outputs": [],
   "source": [
    "# Sampling imports\n",
    "from imblearn.over_sampling import SMOTE\n",
    "from imblearn.pipeline import Pipeline\n",
    "from imblearn.under_sampling import RandomUnderSampler\n",
    "from imblearn.under_sampling import TomekLinks\n",
    "from imblearn.under_sampling import EditedNearestNeighbours"
   ]
  },
  {
   "cell_type": "code",
   "execution_count": 6,
   "metadata": {},
   "outputs": [
    {
     "name": "stdout",
     "output_type": "stream",
     "text": [
      "importing Jupyter notebook from GeneratePlots.ipynb\n",
      "importing Jupyter notebook from Random_Forest.ipynb\n",
      "importing Jupyter notebook from autoML.ipynb\n"
     ]
    }
   ],
   "source": [
    "# Import Other Files\n",
    "# Must compile the other two files of the same name prior to running this block\n",
    "import GeneratePlots\n",
    "import Random_Forest\n",
    "import autoML"
   ]
  },
  {
   "cell_type": "code",
   "execution_count": 7,
   "metadata": {},
   "outputs": [],
   "source": [
    "# Create name for text file that will store Random Forest Run Results\n",
    "random_forest_file_name=\"Random_Forest_Results.txt\"\n",
    "\n",
    "# Truncate them to clear their previous contents \n",
    "random_forest_file=open(random_forest_file_name,\"a\")\n",
    "random_forest_file.truncate(0)\n",
    "random_forest_file.close()"
   ]
  },
  {
   "cell_type": "code",
   "execution_count": 8,
   "metadata": {},
   "outputs": [],
   "source": [
    "# Create name for text file that will store autoML Run Results\n",
    "autoML_file_name=\"autoML_Results.txt\"\n",
    "\n",
    "# Truncate them to clear their previous contents \n",
    "autoML_file=open(autoML_file_name,\"a\")\n",
    "autoML_file.truncate(0)\n",
    "autoML_file.close()"
   ]
  },
  {
   "cell_type": "code",
   "execution_count": 9,
   "metadata": {},
   "outputs": [],
   "source": [
    "# Set plotting style\n",
    "plt.style.use('ggplot')"
   ]
  },
  {
   "cell_type": "code",
   "execution_count": null,
   "metadata": {},
   "outputs": [],
   "source": [
    "# Import credit card transaction data\n",
    "df_creditcard = pd.read_csv('creditcard.csv')"
   ]
  },
  {
   "cell_type": "code",
   "execution_count": null,
   "metadata": {},
   "outputs": [],
   "source": [
    "# Generate plots of transaction amount and time distributions\n",
    "GeneratePlots.gen_amount_time_plot(df_creditcard)"
   ]
  },
  {
   "cell_type": "code",
   "execution_count": null,
   "metadata": {},
   "outputs": [],
   "source": [
    "# Generate plot showing initial ratio of Fraud to No Fraud cases\n",
    "GeneratePlots.gen_data_class(df_creditcard)"
   ]
  },
  {
   "cell_type": "code",
   "execution_count": null,
   "metadata": {},
   "outputs": [],
   "source": [
    "# The V* features are scaled but the Time and Amount features are not scaled\n",
    "# This scales those two features for proper analysis\n",
    "robust_scaler=RobustScaler()\n",
    "\n",
    "# Scale new values\n",
    "df_creditcard['Amount_Scaled']=robust_scaler.fit_transform(df_creditcard['Amount'].values.reshape(-1,1))\n",
    "df_creditcard['Time_Scaled']=robust_scaler.fit_transform(df_creditcard['Time'].values.reshape(-1,1))\n",
    "\n",
    "# Drop old time and amount features\n",
    "df_creditcard.drop(['Time','Amount'], axis=1, inplace=True)"
   ]
  },
  {
   "cell_type": "code",
   "execution_count": null,
   "metadata": {},
   "outputs": [],
   "source": [
    "# Need to rearrange order of columns to make sure that Class is the last column\n",
    "scaled_amount_placeholder=df_creditcard['Amount_Scaled']\n",
    "scaled_time_placeholder=df_creditcard['Time_Scaled']\n",
    "df_creditcard.drop(['Amount_Scaled','Time_Scaled'], axis=1, inplace=True)\n",
    "df_creditcard.insert(0,'Amount_Scaled',scaled_amount_placeholder)\n",
    "df_creditcard.insert(1,'Time_Scaled',scaled_time_placeholder)"
   ]
  },
  {
   "cell_type": "code",
   "execution_count": null,
   "metadata": {},
   "outputs": [],
   "source": [
    "# Split Data into test and train datasets\n",
    "# X values are V* and Amount and Y values are 1 for fraud and 0 for not fraud\n",
    "# Current Train dataset is 70% of the total dataset\n",
    "X=df_creditcard.iloc[:,0:30]\n",
    "y=df_creditcard.iloc[:,30]\n",
    "X_train,X_test,y_train,y_test=train_test_split(X,y,test_size=.8)"
   ]
  },
  {
   "cell_type": "code",
   "execution_count": null,
   "metadata": {},
   "outputs": [],
   "source": [
    "# Run of the random forest model using scaled dataset\n",
    "Random_Forest.random_forest(df_creditcard, X_train, X_test, y_train, y_test,\"Scaled\", random_forest_file_name)"
   ]
  },
  {
   "cell_type": "code",
   "execution_count": null,
   "metadata": {},
   "outputs": [],
   "source": [
    "# Oversample the Fraud cases in the training dataset\n",
    "# This uses the SMOTE method and causes the dataset to be perfectly balanced between Fraud and No Fraud cases\n",
    "OS=SMOTE()\n",
    "X_train_os,y_train_os=OS.fit_resample(X_train,y_train)"
   ]
  },
  {
   "cell_type": "code",
   "execution_count": null,
   "metadata": {},
   "outputs": [],
   "source": [
    "# Run of random forest model using oversampled training data\n",
    "Random_Forest.random_forest(df_creditcard, X_train_os, X_test, y_train_os, y_test,\"Oversampled\", random_forest_file_name)"
   ]
  },
  {
   "cell_type": "code",
   "execution_count": null,
   "metadata": {},
   "outputs": [],
   "source": [
    "# Randomly Undersample the Not Fraud cases\n",
    "# Randomly remove cases from the majority dataset until there is an even number of cases\n",
    "# This case undersamples until there is an even number of fraud and no fraud cases\n",
    "under = RandomUnderSampler(sampling_strategy=1)\n",
    "steps = [('u', under)]\n",
    "pipeline = Pipeline(steps=steps)\n",
    "# transform the dataset\n",
    "X_train_us, y_train_us = pipeline.fit_resample(X_train, y_train)\n",
    "\n",
    "# This case randomly undersamples until there are 4 times as many Not Frauds as there are Frauds\n",
    "under = RandomUnderSampler(sampling_strategy=.25)\n",
    "steps = [('u', under)]\n",
    "pipeline = Pipeline(steps=steps)\n",
    "# transform the dataset\n",
    "X_train_us_4, y_train_us_4 = pipeline.fit_resample(X_train, y_train)"
   ]
  },
  {
   "cell_type": "code",
   "execution_count": null,
   "metadata": {},
   "outputs": [],
   "source": [
    "# This method uses TomekLinks to undersample the No Fraud cases\n",
    "# This will not balance the transformed dataset, but it will help decrease ambigiuity along the class boundary\n",
    "undersample_tomek=TomekLinks()\n",
    "X_train_tomek,y_train_tomek = undersample_tomek.fit_resample(X_train,y_train)"
   ]
  },
  {
   "cell_type": "code",
   "execution_count": null,
   "metadata": {},
   "outputs": [],
   "source": [
    "# This method uses Edited Nearest Neighbours to undersample No Fraud cases\n",
    "# This will not balance the transformed dataset, but it will help decrease ambigiuity along the class boundary\n",
    "undersample_ENN=EditedNearestNeighbours(n_neighbors=3)\n",
    "X_train_ENN,y_train_ENN=undersample_ENN.fit_resample(X_train,y_train)"
   ]
  },
  {
   "cell_type": "code",
   "execution_count": null,
   "metadata": {},
   "outputs": [],
   "source": [
    "# Run of random forest model using undersampled training data\n",
    "Random_Forest.random_forest(df_creditcard, X_train_us, X_test, y_train_us, y_test,\"Undersampled_full\", random_forest_file_name)"
   ]
  },
  {
   "cell_type": "code",
   "execution_count": null,
   "metadata": {},
   "outputs": [],
   "source": [
    "# Run of random forest model using undersampled 4x training data\n",
    "Random_Forest.random_forest(df_creditcard, X_train_us_4, X_test, y_train_us_4, y_test,\"Undersampled_4x\", random_forest_file_name)"
   ]
  },
  {
   "cell_type": "code",
   "execution_count": null,
   "metadata": {},
   "outputs": [],
   "source": [
    "# Use TomekLinks to undersample the No Fraud Cases\n",
    "# Run of random forest model using tomek undersampled training data\n",
    "Random_Forest.random_forest(df_creditcard, X_train_tomek, X_test, y_train_tomek, y_test,\"Undersampled_Tomek\", random_forest_file_name)"
   ]
  },
  {
   "cell_type": "code",
   "execution_count": null,
   "metadata": {},
   "outputs": [],
   "source": [
    "# Use Edited Nearest Neighbours to undersample the No Fraud Cases\n",
    "# Run of random forest model using ENN undersampled training data\n",
    "Random_Forest.random_forest(df_creditcard, X_train_ENN, X_test, y_train_ENN, y_test,\"Undersampled_ENN\", random_forest_file_name)"
   ]
  },
  {
   "cell_type": "code",
   "execution_count": null,
   "metadata": {},
   "outputs": [],
   "source": [
    "# Pipeline over and undersample to see mixed results\n",
    "over = SMOTE(sampling_strategy=0.5)\n",
    "#under = RandomUnderSampler(sampling_strategy=1)\n",
    "under = EditedNearestNeighbours(n_neighbors=3)\n",
    "steps = [('o', over), ('u', under)]\n",
    "pipeline = Pipeline(steps=steps)\n",
    "# transform the dataset\n",
    "X_train_os_us, y_train_os_us = pipeline.fit_resample(X_train, y_train)"
   ]
  },
  {
   "cell_type": "code",
   "execution_count": null,
   "metadata": {},
   "outputs": [],
   "source": [
    "# Run of random forest model using over and under sampled training data\n",
    "Random_Forest.random_forest(df_creditcard, X_train_os_us, X_test, y_train_os_us, y_test,\"Over_and_Undersampled\", random_forest_file_name)"
   ]
  },
  {
   "cell_type": "code",
   "execution_count": null,
   "metadata": {},
   "outputs": [],
   "source": [
    "autoML.run_autoML(X_train,X_test,y_train,y_test,\"Scaled\",autoML_file_name)"
   ]
  },
  {
   "cell_type": "code",
   "execution_count": null,
   "metadata": {},
   "outputs": [],
   "source": [
    "autoML.run_autoML(X_train_os,X_test,y_train_os,y_test,\"Oversampled\",autoML_file_name)"
   ]
  },
  {
   "cell_type": "code",
   "execution_count": null,
   "metadata": {},
   "outputs": [],
   "source": [
    "autoML.run_autoML(X_train_us,X_test,y_train_us,y_test,\"Undersampled_Full\",autoML_file_name)"
   ]
  },
  {
   "cell_type": "code",
   "execution_count": null,
   "metadata": {},
   "outputs": [],
   "source": [
    "autoML.run_autoML(X_train_us_4,X_test,y_train_us_4,y_test,\"Undersampled_4x\",autoML_file_name)"
   ]
  },
  {
   "cell_type": "code",
   "execution_count": null,
   "metadata": {},
   "outputs": [],
   "source": [
    "autoML.run_autoML(X_train_tomek,X_test,y_train_tomek,y_test,\"Undersampled_Tomek\",autoML_file_name)"
   ]
  },
  {
   "cell_type": "code",
   "execution_count": null,
   "metadata": {},
   "outputs": [],
   "source": [
    "autoML.run_autoML(X_train_ENN,X_test,y_train_ENN,y_test,\"Undersampled_ENN\",autoML_file_name)"
   ]
  },
  {
   "cell_type": "code",
   "execution_count": null,
   "metadata": {},
   "outputs": [],
   "source": [
    "autoML.run_autoML(X_train_os_us,X_test,y_train_os_us,y_test,\"Over_And_Undersampled\",autoML_file_name)"
   ]
  },
  {
   "cell_type": "code",
   "execution_count": null,
   "metadata": {},
   "outputs": [],
   "source": [
    "# tpot.export('tpot_best_model.ipynb')"
   ]
  },
  {
   "cell_type": "code",
   "execution_count": null,
   "metadata": {},
   "outputs": [],
   "source": [
    "print(str(round((time.time()-start_time)/60,1))+' minutes')"
   ]
  }
 ],
 "metadata": {
  "kernelspec": {
   "display_name": "Python 3",
   "language": "python",
   "name": "python3"
  },
  "language_info": {
   "codemirror_mode": {
    "name": "ipython",
    "version": 3
   },
   "file_extension": ".py",
   "mimetype": "text/x-python",
   "name": "python",
   "nbconvert_exporter": "python",
   "pygments_lexer": "ipython3",
   "version": "3.8.3"
  }
 },
 "nbformat": 4,
 "nbformat_minor": 4
}
