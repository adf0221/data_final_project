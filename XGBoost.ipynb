{
 "metadata": {
  "language_info": {
   "codemirror_mode": {
    "name": "ipython",
    "version": 3
   },
   "file_extension": ".py",
   "mimetype": "text/x-python",
   "name": "python",
   "nbconvert_exporter": "python",
   "pygments_lexer": "ipython3",
   "version": "3.8.5"
  },
  "orig_nbformat": 2,
  "kernelspec": {
   "name": "python385jvsc74a57bd0ea73dfb5169350e1c0e7560056c7e13314f3d35958c40163dd0640ab98974424",
   "display_name": "Python 3.8.5 64-bit ('base': conda)"
  }
 },
 "nbformat": 4,
 "nbformat_minor": 2,
 "cells": [
  {
   "cell_type": "code",
   "execution_count": 1,
   "metadata": {},
   "outputs": [],
   "source": [
    "# 5/10/21\n",
    "# Run XGBoost model Subfile\n",
    "\n",
    "# Import Libraries\n",
    "import pandas as pd\n",
    "import numpy as np\n",
    "import matplotlib.pyplot as plt\n",
    "from xgboost import XGBClassifier\n",
    "from sklearn.metrics import classification_report, confusion_matrix, accuracy_score, precision_score, recall_score, fbeta_score, precision_recall_curve"
   ]
  },
  {
   "cell_type": "code",
   "execution_count": 2,
   "metadata": {},
   "outputs": [],
   "source": [
    "\"\"\" Primary function that takes train/test data and runs through XGBoost algorithms\n",
    "Inputs: X and y test and train sets, run name, text file name\n",
    "Outputs: None, but stores results of run in textfile \n",
    "\"\"\"\n",
    "def run_XGBoost(X_train, X_test, y_train, y_test, runset_name, file_name):\n",
    "    \n",
    "    # Open text file and write runset name\n",
    "    text_file=open(file_name,\"a\")\n",
    "    text_file.write(\"Results for \"+runset_name+\" XGBoost run\\n\\n\")\n",
    "    \n",
    "    # XGB\n",
    "    xgb=XGBClassifier()\n",
    "    \n",
    "    xgb.fit(X_train,y_train)\n",
    "    \n",
    "    # Create predicted values\n",
    "    y_pred=xgb.predict(X_test)\n",
    "    \n",
    "    # Print confusion matrix\n",
    "    text_file.write(\"Confusion Matrix\\n\")\n",
    "    text_file.write(str(confusion_matrix(y_test,y_pred))+\"\\n\\n\")\n",
    "    \n",
    "    # Print classification report\n",
    "    text_file.write(\"Classification Report\\n\")\n",
    "    text_file.write(str(classification_report(y_test,y_pred))+\"\\n\\n\")\n",
    "    \n",
    "    # Print Accuracy Score\n",
    "    text_file.write(\"Accuracy Score=\")\n",
    "    text_file.write(str(accuracy_score(y_test,y_pred))+\"\\n\")\n",
    "    \n",
    "    # Print Precision Score\n",
    "    text_file.write(\"Precision Score=\")\n",
    "    text_file.write(str(precision_score(y_test,y_pred))+'\\n')\n",
    "    \n",
    "    # Print Recall Score\n",
    "    text_file.write(\"Recall Score=\")\n",
    "    text_file.write(str(recall_score(y_test,y_pred))+'\\n') \n",
    "    \n",
    "    # Print F2 Score\n",
    "    text_file.write(\"F2 Score=\")\n",
    "    text_file.write(str(fbeta_score(y_test,y_pred, beta=2))+'\\n')    \n",
    "    \n",
    "    # Close text file\n",
    "    text_file.close()"
   ]
  }
 ]
}